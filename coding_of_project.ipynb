{
  "nbformat": 4,
  "nbformat_minor": 0,
  "metadata": {
    "colab": {
      "name": "Untitled0.ipynb",
      "provenance": [],
      "collapsed_sections": []
    },
    "kernelspec": {
      "name": "python3",
      "display_name": "Python 3"
    },
    "language_info": {
      "name": "python"
    }
  },
  "cells": [
    {
      "cell_type": "code",
      "metadata": {
        "colab": {
          "base_uri": "https://localhost:8080/"
        },
        "id": "cscNwiCxHllX",
        "outputId": "bc7fcb18-4ce1-4258-f078-ad1bd7412501"
      },
      "source": [
        "!wget https://github.com/martin98-afk/cs542data/raw/main/telecom_users.csv"
      ],
      "execution_count": 2,
      "outputs": [
        {
          "output_type": "stream",
          "text": [
            "--2021-06-23 16:04:29--  https://github.com/martin98-afk/cs542data/raw/main/telecom_users.csv\n",
            "Resolving github.com (github.com)... 140.82.113.4\n",
            "Connecting to github.com (github.com)|140.82.113.4|:443... connected.\n",
            "HTTP request sent, awaiting response... 302 Found\n",
            "Location: https://raw.githubusercontent.com/martin98-afk/cs542data/main/telecom_users.csv [following]\n",
            "--2021-06-23 16:04:29--  https://raw.githubusercontent.com/martin98-afk/cs542data/main/telecom_users.csv\n",
            "Resolving raw.githubusercontent.com (raw.githubusercontent.com)... 185.199.108.133, 185.199.109.133, 185.199.110.133, ...\n",
            "Connecting to raw.githubusercontent.com (raw.githubusercontent.com)|185.199.108.133|:443... connected.\n",
            "HTTP request sent, awaiting response... 200 OK\n",
            "Length: 853943 (834K) [text/plain]\n",
            "Saving to: ‘telecom_users.csv’\n",
            "\n",
            "telecom_users.csv   100%[===================>] 833.93K  --.-KB/s    in 0.09s   \n",
            "\n",
            "2021-06-23 16:04:30 (8.89 MB/s) - ‘telecom_users.csv’ saved [853943/853943]\n",
            "\n"
          ],
          "name": "stdout"
        }
      ]
    },
    {
      "cell_type": "code",
      "metadata": {
        "id": "tI8F_9zfMcLi"
      },
      "source": [
        "import pandas as pd\n",
        "import numpy as np\n",
        "import matplotlib.pyplot as plt\n",
        "data = pd.read_csv('/content/telecom_users.csv',header=None)"
      ],
      "execution_count": 3,
      "outputs": []
    },
    {
      "cell_type": "code",
      "metadata": {
        "id": "0AQed1gzM63g"
      },
      "source": [
        "useful_data = data.iloc[1:,2:]"
      ],
      "execution_count": 4,
      "outputs": []
    },
    {
      "cell_type": "code",
      "metadata": {
        "id": "tEKZ3UaJM7fk"
      },
      "source": [
        "# factorize data, turn categorical data in the file to int value data\n",
        "cat = [0,1,2,3,5,6,7,8,9,10,11,12,13,14,15,16,19]\n",
        "for i in cat:\n",
        "    useful_data[i+2] = pd.factorize(useful_data[i+2])[0]\n",
        "data = useful_data.values\n",
        "# there are still some column's real value in string format, convert them in to float fomat\n",
        "missing_value = []\n",
        "for i in range(data.shape[1]):\n",
        "    if i not in cat:\n",
        "        for j in range(data.shape[0]):\n",
        "            if data[j,i] != ' ':\n",
        "                data[j,i] = float(data[j,i])\n",
        "            else:\n",
        "                data[j,i] = 0\n",
        "                missing_value.append([j,i])"
      ],
      "execution_count": 5,
      "outputs": []
    },
    {
      "cell_type": "code",
      "metadata": {
        "colab": {
          "base_uri": "https://localhost:8080/",
          "height": 314
        },
        "id": "TcwvL-ywM2r7",
        "outputId": "02c579c4-a36b-4fb2-f7a8-7d181a842e0e"
      },
      "source": [
        "import seaborn as sns\n",
        "df = pd.read_csv('/content/telecom_users.csv')\n",
        "df = df.iloc[1:,2:]\n",
        "# get dummies\n",
        "df = pd.get_dummies(df,drop_first = True)\n",
        "# Displaying the count for non Deviated hole \n",
        "majority_class = df.loc[df['Churn_Yes'] == 0].count()[0]\n",
        "\n",
        "# Showing the count for Deviated hole \n",
        "minority_class = df.loc[df['Churn_Yes'] == 1].count()[0]\n",
        "\n",
        "# Printing the classes for the deviated and non-deviated class \n",
        "print('Clustomer who stayed: {}'.format(majority_class))\n",
        "print('Customers who left : {}'.format(minority_class))\n",
        "\n",
        "\n",
        "sns.countplot(x=\"Churn_Yes\", data=df)\n",
        "plt.show()"
      ],
      "execution_count": 6,
      "outputs": [
        {
          "output_type": "stream",
          "text": [
            "Clustomer who stayed: 4398\n",
            "Customers who left : 1587\n"
          ],
          "name": "stdout"
        },
        {
          "output_type": "display_data",
          "data": {
            "image/png": "[encoded data removed]",
            "text/plain": [
              "<Figure size 432x288 with 1 Axes>"
            ]
          },
          "metadata": {
            "tags": [],
            "needs_background": "light"
          }
        }
      ]
    },
    {
      "cell_type": "markdown",
      "metadata": {
        "id": "1lBE5jUrJZvd"
      },
      "source": [
        "# try different ways to deal with missing data."
      ]
    },
    {
      "cell_type": "code",
      "metadata": {
        "colab": {
          "base_uri": "https://localhost:8080/"
        },
        "id": "3yDJTBMIKgm5",
        "outputId": "a6dcc1cd-96d4-4ea1-e820-1c38bcdf13b3"
      },
      "source": [
        "data.shape"
      ],
      "execution_count": null,
      "outputs": [
        {
          "output_type": "execute_result",
          "data": {
            "text/plain": [
              "(5986, 20)"
            ]
          },
          "metadata": {
            "tags": []
          },
          "execution_count": 10
        }
      ]
    },
    {
      "cell_type": "code",
      "metadata": {
        "id": "7aKOYZoTT9Zx"
      },
      "source": [
        "#impute missing value with mean\n",
        "#option 1 impute missing data with mean\n",
        "# for i in range(len(missing_value)):\n",
        "#     data[missing_value[0][0],missing_value[0][1]] = np.mean(data[:,missing_value[0][1]])\n",
        "\n",
        "#option 2 just delete the missing data \n",
        "mis_index = [index[0] for index in missing_value]\n",
        "data_new = []\n",
        "for i in range(data.shape[0]):\n",
        "    if i not in mis_index:\n",
        "        data_new.append(data[i,:])\n",
        "data = np.array(data_new)"
      ],
      "execution_count": 7,
      "outputs": []
    },
    {
      "cell_type": "markdown",
      "metadata": {
        "id": "rs2sUKdlwwCV"
      },
      "source": [
        "# the result shows that it is better to just delete the missing data than impute the missing value with mean.\n",
        "\n",
        "\n",
        "\n",
        "> option 1 result:\n",
        "\n",
        "                 precision    recall     f1-score    support\n",
        "\n",
        "           0       0.85      0.89      0.87       895\n",
        "           1       0.61      0.52      0.56       303\n",
        "\n",
        "    accuracy                           0.79      1198\n",
        "    macro avg          0.73      0.71      0.71      1198\n",
        "    weighted avg        0.79      0.79      0.79      1198\n",
        "\n",
        "\n",
        "\n",
        "> option 2 result:\n",
        "\n",
        "                 precision    recall     f1-score     support\n",
        "\n",
        "           0       0.85      0.91      0.88       884\n",
        "           1       0.67      0.53      0.59       312\n",
        "\n",
        "    accuracy                           0.81      1196\n",
        "    macro avg         0.76      0.72      0.73      1196\n",
        "    weighted avg        0.80      0.81      0.80      1196\n",
        "\n"
      ]
    },
    {
      "cell_type": "code",
      "metadata": {
        "colab": {
          "base_uri": "https://localhost:8080/"
        },
        "id": "Mk4kSiVzVfKy",
        "outputId": "6fc96c62-e6f1-45db-d8b7-d2fb3bdc6df6"
      },
      "source": [
        "data.shape"
      ],
      "execution_count": null,
      "outputs": [
        {
          "output_type": "execute_result",
          "data": {
            "text/plain": [
              "(5976, 20)"
            ]
          },
          "metadata": {
            "tags": []
          },
          "execution_count": 12
        }
      ]
    },
    {
      "cell_type": "code",
      "metadata": {
        "colab": {
          "base_uri": "https://localhost:8080/"
        },
        "id": "FemWWaA5VHaq",
        "outputId": "c1cbdc95-a67a-4bb8-9b5a-d396f886b002"
      },
      "source": [
        "# normalization\n",
        "def features(data):\n",
        "    real = [4,17,18] # real value columns in data\n",
        "    for real_index in real:\n",
        "        data[:,real_index] = (data[:,real_index]-data[:,real_index].mean())/data[:,real_index].std()\n",
        "    print(data)\n",
        "    return data\n",
        "data = features(data)"
      ],
      "execution_count": 8,
      "outputs": [
        {
          "output_type": "stream",
          "text": [
            "[[0 0 0 ... -1.353483152796464 -0.24776880175928453 0]\n",
            " [1 0 1 ... 0.7740664189002279 0.736669251021817 0]\n",
            " [1 1 0 ... 0.33560187016648335 0.25145349728121336 1]\n",
            " ...\n",
            " [0 0 0 ... -1.4514733360362024 -0.8760184286173319 0]\n",
            " [0 1 1 ... 1.1494186462253273 -0.4828236985502871 1]\n",
            " [0 0 1 ... -1.4963163012476082 -0.8095038296657152 0]]\n"
          ],
          "name": "stdout"
        }
      ]
    },
    {
      "cell_type": "markdown",
      "metadata": {
        "id": "xXUtkyZWNcoq"
      },
      "source": [
        "# first we use normal logistic regression to classify the data"
      ]
    },
    {
      "cell_type": "code",
      "metadata": {
        "id": "dKdeURhgYD88"
      },
      "source": [
        "from sklearn.linear_model import LogisticRegression\n",
        "from sklearn.model_selection import train_test_split\n",
        "from sklearn.metrics import accuracy_score\n",
        "from sklearn.metrics import confusion_matrix\n",
        "from sklearn.metrics import classification_report\n",
        "x_train,x_test,y_train,y_test = train_test_split(data[:,:-1],data[:,-1],test_size = 0.2,random_state = 42)\n",
        "y_train = y_train.astype('int')\n",
        "y_test = y_test.astype('int')"
      ],
      "execution_count": 9,
      "outputs": []
    },
    {
      "cell_type": "code",
      "metadata": {
        "colab": {
          "base_uri": "https://localhost:8080/"
        },
        "id": "PSOl2utE8dNb",
        "outputId": "dc8aea2b-9aa7-46f5-9f4d-59b6f92b81d1"
      },
      "source": [
        "model = LogisticRegression()\n",
        "model.fit(x_train,y_train)\n",
        "model.fit(x_train,y_train)\n",
        "\n",
        "predict_results=model.predict(x_test)\n",
        "print(accuracy_score(predict_results, y_test))\n",
        "conf_mat = confusion_matrix(y_test,predict_results)\n",
        "print(conf_mat)\n",
        "print(classification_report(y_test, predict_results))"
      ],
      "execution_count": 10,
      "outputs": [
        {
          "output_type": "stream",
          "text": [
            "0.8093645484949833\n",
            "[[803  81]\n",
            " [147 165]]\n",
            "              precision    recall  f1-score   support\n",
            "\n",
            "           0       0.85      0.91      0.88       884\n",
            "           1       0.67      0.53      0.59       312\n",
            "\n",
            "    accuracy                           0.81      1196\n",
            "   macro avg       0.76      0.72      0.73      1196\n",
            "weighted avg       0.80      0.81      0.80      1196\n",
            "\n"
          ],
          "name": "stdout"
        }
      ]
    },
    {
      "cell_type": "markdown",
      "metadata": {
        "id": "VbM9lu4tNixT"
      },
      "source": [
        "# the accuracy of the model is 0.81, it seems good, but when we see the accuracy and recall of different class. We can find that the accuracy and recall of determining the customer is going to churn are lower than 0.7."
      ]
    },
    {
      "cell_type": "markdown",
      "metadata": {
        "id": "No58YHhVZYQl"
      },
      "source": [
        "# Before going into the Modelling ,it should be noted that our data is highly sensitive to False Negative.Let suppose a customer has high probability to leave the sevice(churn) ,but if our model predict that he is not going to leave (not churn) which is False Negative, then company will not be primarily focusing to that customer's services and then customer will definatly leave the sevices(churn) which results in loss to the company. And if customer is not willing to leave the services and is satisfied, but our model tells that he is going to leave the services then company will provide him extra benefits ,offers and then customer will become extra happy. Thats why we will not focus on getting best accuracy but try to get best Recall Score.here we explore different methods to increase the particularly class's recall."
      ]
    },
    {
      "cell_type": "markdown",
      "metadata": {
        "id": "mFF1-fCOyfhw"
      },
      "source": [
        "# 1. (Add penalization) logistic regression with penalization to force the classifier to be more likely to classify 1 than 0 in order to increase the recall of classifying 1."
      ]
    },
    {
      "cell_type": "code",
      "metadata": {
        "id": "sTZuucVYT8hN"
      },
      "source": [
        "def sigmoid(z):\n",
        "    return 1/(1+np.exp(-z))\n",
        "\n",
        "def loss_function(label,z,penalize):\n",
        "    return -np.mean((label*np.log(z)+(1-label)*np.log(1-z)) - penalize*(1-z)**2)\n",
        "\n",
        "def predict(X,w,b):\n",
        "    pred = sigmoid((w.T.dot(X)+b).astype('float'))\n",
        "    return np.round(pred)\n",
        "\n",
        "def gradientDescentOneStep(X,Y,w,b,alpha,penalize):\n",
        "    m = Y.shape[0]\n",
        "    a = w.T.dot(X)+b\n",
        "    z = sigmoid(a.astype('float'))\n",
        "    dz = z - Y - 2*penalize*(1-z)**2*z\n",
        "    dw = 1/m*X.dot(dz.T)\n",
        "    db = 1/m*np.sum(dz)\n",
        "    w = w - alpha * dw\n",
        "    b = b - alpha * db\n",
        "    loss = loss_function(Y,z,penalize)\n",
        "    return w,b,loss\n",
        "\n",
        "def gradientDescent(X,Y,w,b,alpha,iternum,penalize):\n",
        "    loss_curve = []\n",
        "    for i in range(iternum):\n",
        "        w,b,loss = gradientDescentOneStep(X,Y,w,b,alpha,penalize)\n",
        "        loss_curve.append(loss)\n",
        "    return w,b,loss_curve\n",
        "\n",
        "def parameter_initialize(size):\n",
        "    return np.zeros(size),0\n"
      ],
      "execution_count": 11,
      "outputs": []
    },
    {
      "cell_type": "code",
      "metadata": {
        "colab": {
          "base_uri": "https://localhost:8080/",
          "height": 282
        },
        "id": "PV40lEGndQDc",
        "outputId": "a0bb8611-f662-430c-a5f9-1fb291cb9b4a"
      },
      "source": [
        "import matplotlib.pyplot as plt\n",
        "n = x_train.shape[1]\n",
        "w,b = parameter_initialize((n,1))\n",
        "w,b,loss_curve = gradientDescent(x_train.T,y_train,w,b,alpha=0.1,iternum = 2000,penalize = 0.666)\n",
        "plt.plot(loss_curve)"
      ],
      "execution_count": 12,
      "outputs": [
        {
          "output_type": "execute_result",
          "data": {
            "text/plain": [
              "[<matplotlib.lines.Line2D at 0x7f8a4e9a64d0>]"
            ]
          },
          "metadata": {
            "tags": []
          },
          "execution_count": 12
        },
        {
          "output_type": "display_data",
          "data": {
            "image/png": "[encoded data removed]",
            "text/plain": [
              "<Figure size 432x288 with 1 Axes>"
            ]
          },
          "metadata": {
            "tags": [],
            "needs_background": "light"
          }
        }
      ]
    },
    {
      "cell_type": "code",
      "metadata": {
        "id": "RvLwyGPJeajY",
        "colab": {
          "base_uri": "https://localhost:8080/"
        },
        "outputId": "bc5f859e-19b1-43c6-fb98-f6a6c391d33f"
      },
      "source": [
        "predict_results=np.squeeze(predict(x_test.T,w,b))\n",
        "print(accuracy_score(predict_results, y_test))\n",
        "conf_mat = confusion_matrix(y_test,predict_results)\n",
        "print(conf_mat)\n",
        "print(classification_report(y_test, predict_results))"
      ],
      "execution_count": 13,
      "outputs": [
        {
          "output_type": "stream",
          "text": [
            "0.7675585284280937\n",
            "[[686 198]\n",
            " [ 80 232]]\n",
            "              precision    recall  f1-score   support\n",
            "\n",
            "           0       0.90      0.78      0.83       884\n",
            "           1       0.54      0.74      0.63       312\n",
            "\n",
            "    accuracy                           0.77      1196\n",
            "   macro avg       0.72      0.76      0.73      1196\n",
            "weighted avg       0.80      0.77      0.78      1196\n",
            "\n"
          ],
          "name": "stdout"
        }
      ]
    },
    {
      "cell_type": "code",
      "metadata": {
        "id": "r_Fhig1WicZK"
      },
      "source": [
        "import matplotlib.pyplot as plt\n",
        "n = x_train.shape[1]\n",
        "penalize = [ 2/i for i in range(1,21)]\n",
        "\n",
        "F_acc_list=[]\n",
        "F_recall_list = []\n",
        "T_acc_list = []\n",
        "T_recall_list = [] \n",
        "T_F1_list1 = []\n",
        "F_F1_list1 = []\n",
        "\n",
        "for i in penalize:\n",
        "    w,b = parameter_initialize((n,1))\n",
        "    w,b,loss_curve = gradientDescent(x_train.T,y_train,w,b,alpha=0.1,iternum = 2000,penalize = i)\n",
        "    predict_results=np.squeeze(predict(x_test.T,w,b))\n",
        "    a = classification_report(y_test, predict_results)\n",
        "    F_acc_list.append(float(a[74:78]))\n",
        "    F_recall_list.append(float(a[84:88]))\n",
        "    T_acc_list.append(float(a[128:132]))\n",
        "    T_recall_list.append(float(a[138:142]))\n",
        "    F_F1_list1.append(float(a[94:98]))\n",
        "    T_F1_list1.append(float(a[148:152]))\n"
      ],
      "execution_count": null,
      "outputs": []
    },
    {
      "cell_type": "code",
      "metadata": {
        "colab": {
          "base_uri": "https://localhost:8080/",
          "height": 312
        },
        "id": "aymaQ4-z4J-Y",
        "outputId": "fddbb67b-92d4-4b6f-a436-2cfbb3d90627"
      },
      "source": [
        "legend = ['True recall','True f1-score']\n",
        "plt.title('ROC result of different penalization')\n",
        "plt.plot(penalize,T_recall_list)\n",
        "plt.plot(penalize,T_F1_list1)\n",
        "plt.xlabel('penalization strength')\n",
        "plt.ylabel('percentage')\n",
        "plt.legend(legend)"
      ],
      "execution_count": null,
      "outputs": [
        {
          "output_type": "execute_result",
          "data": {
            "text/plain": [
              "<matplotlib.legend.Legend at 0x7fe41c26c2d0>"
            ]
          },
          "metadata": {
            "tags": []
          },
          "execution_count": 17
        },
        {
          "output_type": "display_data",
          "data": {
            "image/png": "[encoded data removed]",
            "text/plain": [
              "<Figure size 432x288 with 1 Axes>"
            ]
          },
          "metadata": {
            "tags": [],
            "needs_background": "light"
          }
        }
      ]
    },
    {
      "cell_type": "markdown",
      "metadata": {
        "id": "9OIHSWTICLTD"
      },
      "source": [
        "# as we can see from above, penalization greatly affect the ROC result. According to different task. We may particularly want one of these value to be highest. For example, for telecom, Ture recall is the most important one, it is important to find out all possible customers who would like to churn. While detecting who will not churn is not important and even if a customer who won't churn is misclassified as going to churn. It won't hurt a lot. The same thing is also true for cancer detection. We want make sure all possible patient who has cancer to be detected."
      ]
    },
    {
      "cell_type": "markdown",
      "metadata": {
        "id": "1npJdhv1cHFn"
      },
      "source": [
        "# 2. use weighted cross entropy."
      ]
    },
    {
      "cell_type": "code",
      "metadata": {
        "id": "7cyIqlD_chpo"
      },
      "source": [
        "def loss_function(label,z,penalize):\n",
        "    return -np.mean(( penalize*label*np.log(z)+ (1-penalize)*(1-label)*np.log(1-z)))\n",
        "\n",
        "def gradientDescentOneStep(X,Y,w,b,alpha,penalize):\n",
        "    m = Y.shape[0]\n",
        "    a = w.T.dot(X)+b\n",
        "    z = sigmoid(a.astype('float'))\n",
        "    dz = (1-penalize)*z - penalize*Y\n",
        "    dw = 1/m*X.dot(dz.T)\n",
        "    db = 1/m*np.sum(dz)\n",
        "    w = w - alpha * dw\n",
        "    b = b - alpha * db\n",
        "    loss = loss_function(Y,z,penalize)\n",
        "    return w,b,loss"
      ],
      "execution_count": null,
      "outputs": []
    },
    {
      "cell_type": "code",
      "metadata": {
        "colab": {
          "base_uri": "https://localhost:8080/",
          "height": 282
        },
        "id": "XHIWiJNVD8ft",
        "outputId": "4801e459-78a8-42e7-eb5e-76aba543580c"
      },
      "source": [
        "import matplotlib.pyplot as plt\n",
        "n = x_train.shape[1]\n",
        "w,b = parameter_initialize((n,1))\n",
        "w,b,loss_curve = gradientDescent(x_train.T,y_train,w,b,alpha=0.1,iternum = 2000,penalize = 0.5)\n",
        "plt.plot(loss_curve)"
      ],
      "execution_count": null,
      "outputs": [
        {
          "output_type": "execute_result",
          "data": {
            "text/plain": [
              "[<matplotlib.lines.Line2D at 0x7fe3bb160e90>]"
            ]
          },
          "metadata": {
            "tags": []
          },
          "execution_count": 68
        },
        {
          "output_type": "display_data",
          "data": {
            "image/png": "[encoded data removed]",
            "text/plain": [
              "<Figure size 432x288 with 1 Axes>"
            ]
          },
          "metadata": {
            "tags": [],
            "needs_background": "light"
          }
        }
      ]
    },
    {
      "cell_type": "code",
      "metadata": {
        "colab": {
          "base_uri": "https://localhost:8080/"
        },
        "id": "tZbFcdkUEEqJ",
        "outputId": "4a2ca20d-f0a1-489f-d177-62b7a816faa2"
      },
      "source": [
        "predict_results=np.squeeze(predict(x_test.T,w,b))\n",
        "print(accuracy_score(predict_results, y_test))\n",
        "conf_mat = confusion_matrix(y_test,predict_results)\n",
        "print(conf_mat)\n",
        "print(classification_report(y_test, predict_results))"
      ],
      "execution_count": null,
      "outputs": [
        {
          "output_type": "stream",
          "text": [
            "0.7984949832775919\n",
            "[[804  80]\n",
            " [161 151]]\n",
            "              precision    recall  f1-score   support\n",
            "\n",
            "           0       0.83      0.91      0.87       884\n",
            "           1       0.65      0.48      0.56       312\n",
            "\n",
            "    accuracy                           0.80      1196\n",
            "   macro avg       0.74      0.70      0.71      1196\n",
            "weighted avg       0.79      0.80      0.79      1196\n",
            "\n"
          ],
          "name": "stdout"
        }
      ]
    },
    {
      "cell_type": "code",
      "metadata": {
        "id": "TL1M9jJnFCzn",
        "colab": {
          "base_uri": "https://localhost:8080/"
        },
        "outputId": "d891de61-6866-4ba1-b425-272a5774fcb6"
      },
      "source": [
        "import matplotlib.pyplot as plt\n",
        "n = x_train.shape[1]\n",
        "penalize = [ 1/i for i in range(1,21)]\n",
        "\n",
        "\n",
        "F_acc_list=[]\n",
        "F_recall_list = []\n",
        "T_acc_list = []\n",
        "T_recall_list = [] \n",
        "T_F1_list2 = []\n",
        "F_F1_list2 = []\n",
        "\n",
        "for i in penalize:\n",
        "    w,b = parameter_initialize((n,1))\n",
        "    w,b,loss_curve = gradientDescent(x_train.T,y_train,w,b,alpha=0.1,iternum = 2000,penalize = i)\n",
        "    predict_results=np.squeeze(predict(x_test.T,w,b))\n",
        "    a = classification_report(y_test, predict_results)\n",
        "    F_acc_list.append(float(a[74:78]))\n",
        "    F_recall_list.append(float(a[84:88]))\n",
        "    T_acc_list.append(float(a[128:132]))\n",
        "    T_recall_list.append(float(a[138:142]))\n",
        "    F_F1_list2.append(float(a[94:98]))\n",
        "    T_F1_list2.append(float(a[148:152]))\n"
      ],
      "execution_count": null,
      "outputs": [
        {
          "output_type": "stream",
          "text": [
            "/usr/local/lib/python3.7/dist-packages/ipykernel_launcher.py:2: RuntimeWarning: divide by zero encountered in log\n",
            "  \n",
            "/usr/local/lib/python3.7/dist-packages/ipykernel_launcher.py:2: RuntimeWarning: invalid value encountered in multiply\n",
            "  \n",
            "/usr/local/lib/python3.7/dist-packages/sklearn/metrics/_classification.py:1272: UndefinedMetricWarning: Precision and F-score are ill-defined and being set to 0.0 in labels with no predicted samples. Use `zero_division` parameter to control this behavior.\n",
            "  _warn_prf(average, modifier, msg_start, len(result))\n"
          ],
          "name": "stderr"
        }
      ]
    },
    {
      "cell_type": "code",
      "metadata": {
        "colab": {
          "base_uri": "https://localhost:8080/",
          "height": 312
        },
        "id": "qXQUHldRFKvu",
        "outputId": "e9f8cf19-f39f-4e1b-e8c0-d23c74c733c6"
      },
      "source": [
        "legend = ['True recall','True F1-score']\n",
        "plt.title('ROC result of different penalization')\n",
        "plt.plot(penalize,T_recall_list)\n",
        "plt.plot(penalize,T_F1_list2)\n",
        "plt.xlabel('penalization strength')\n",
        "plt.ylabel('percentage')\n",
        "plt.legend(legend)"
      ],
      "execution_count": null,
      "outputs": [
        {
          "output_type": "execute_result",
          "data": {
            "text/plain": [
              "<matplotlib.legend.Legend at 0x7fe3bb13a090>"
            ]
          },
          "metadata": {
            "tags": []
          },
          "execution_count": 71
        },
        {
          "output_type": "display_data",
          "data": {
            "image/png": "[encoded data removed]",
            "text/plain": [
              "<Figure size 432x288 with 1 Axes>"
            ]
          },
          "metadata": {
            "tags": [],
            "needs_background": "light"
          }
        }
      ]
    },
    {
      "cell_type": "code",
      "metadata": {
        "colab": {
          "base_uri": "https://localhost:8080/"
        },
        "id": "mZDpzttmIToA",
        "outputId": "990de715-8576-49ed-ffbe-4f12997579d6"
      },
      "source": [
        "max(T_F1_list2)"
      ],
      "execution_count": null,
      "outputs": [
        {
          "output_type": "execute_result",
          "data": {
            "text/plain": [
              "0.56"
            ]
          },
          "metadata": {
            "tags": []
          },
          "execution_count": 72
        }
      ]
    },
    {
      "cell_type": "markdown",
      "metadata": {
        "id": "IagqfS6BcRiH"
      },
      "source": [
        "# 3. decreasing threshold when predicting."
      ]
    },
    {
      "cell_type": "code",
      "metadata": {
        "id": "EuvTTTDa68A5"
      },
      "source": [
        "def predict(X,w,b,p):\n",
        "    pred = sigmoid((w.T.dot(X)+b).astype('float'))\n",
        "    pred[pred>p] = 1\n",
        "    pred[pred<=p] = 0\n",
        "    return pred"
      ],
      "execution_count": 14,
      "outputs": []
    },
    {
      "cell_type": "code",
      "metadata": {
        "colab": {
          "base_uri": "https://localhost:8080/",
          "height": 282
        },
        "id": "KyxD3nEOJyoM",
        "outputId": "0980c6bc-bf1b-4e30-b195-7a884beba07d"
      },
      "source": [
        "w,b,loss_curve = gradientDescent(x_train.T,y_train,w,b,alpha=0.1,iternum = 2000,penalize = 0)\n",
        "plt.plot(loss_curve)"
      ],
      "execution_count": 15,
      "outputs": [
        {
          "output_type": "execute_result",
          "data": {
            "text/plain": [
              "[<matplotlib.lines.Line2D at 0x7f8a4b2c4150>]"
            ]
          },
          "metadata": {
            "tags": []
          },
          "execution_count": 15
        },
        {
          "output_type": "display_data",
          "data": {
            "image/png": "[encoded data removed]",
            "text/plain": [
              "<Figure size 432x288 with 1 Axes>"
            ]
          },
          "metadata": {
            "tags": [],
            "needs_background": "light"
          }
        }
      ]
    },
    {
      "cell_type": "code",
      "metadata": {
        "colab": {
          "base_uri": "https://localhost:8080/"
        },
        "id": "dWOuh1nOEsFt",
        "outputId": "2ad94a7b-44f3-40ab-9783-90bd23e2b980"
      },
      "source": [
        "predict_results=np.squeeze(predict(x_test.T,w,b,0.333))\n",
        "print(accuracy_score(predict_results, y_test))\n",
        "conf_mat = confusion_matrix(y_test,predict_results)\n",
        "print(conf_mat)\n",
        "print(classification_report(y_test, predict_results))"
      ],
      "execution_count": 16,
      "outputs": [
        {
          "output_type": "stream",
          "text": [
            "0.774247491638796\n",
            "[[697 187]\n",
            " [ 83 229]]\n",
            "              precision    recall  f1-score   support\n",
            "\n",
            "           0       0.89      0.79      0.84       884\n",
            "           1       0.55      0.73      0.63       312\n",
            "\n",
            "    accuracy                           0.77      1196\n",
            "   macro avg       0.72      0.76      0.73      1196\n",
            "weighted avg       0.80      0.77      0.78      1196\n",
            "\n"
          ],
          "name": "stdout"
        }
      ]
    },
    {
      "cell_type": "code",
      "metadata": {
        "colab": {
          "base_uri": "https://localhost:8080/"
        },
        "id": "ephqNCXpJ179",
        "outputId": "e92562a6-950f-4dd6-d65f-076263a56d8a"
      },
      "source": [
        "import matplotlib.pyplot as plt\n",
        "n = x_train.shape[1]\n",
        "penalize = [ 1/i for i in range(1,21)]\n",
        "\n",
        "F_acc_list=[]\n",
        "F_recall_list = []\n",
        "T_acc_list = []\n",
        "T_recall_list = [] \n",
        "T_F1_list3 = []\n",
        "F_F1_list3 = []\n",
        "\n",
        "for i in penalize:\n",
        "    predict_results=np.squeeze(predict(x_test.T,w,b,i))\n",
        "    a = classification_report(y_test, predict_results)\n",
        "    F_acc_list.append(float(a[74:78]))\n",
        "    F_recall_list.append(float(a[84:88]))\n",
        "    T_acc_list.append(float(a[128:132]))\n",
        "    T_recall_list.append(float(a[138:142]))\n",
        "    F_F1_list3.append(float(a[94:98]))\n",
        "    T_F1_list3.append(float(a[148:152]))\n"
      ],
      "execution_count": 17,
      "outputs": [
        {
          "output_type": "stream",
          "text": [
            "/usr/local/lib/python3.7/dist-packages/sklearn/metrics/_classification.py:1272: UndefinedMetricWarning: Precision and F-score are ill-defined and being set to 0.0 in labels with no predicted samples. Use `zero_division` parameter to control this behavior.\n",
            "  _warn_prf(average, modifier, msg_start, len(result))\n"
          ],
          "name": "stderr"
        }
      ]
    },
    {
      "cell_type": "code",
      "metadata": {
        "colab": {
          "base_uri": "https://localhost:8080/",
          "height": 312
        },
        "id": "aEVgLVIdKBzr",
        "outputId": "e689f686-3efa-466a-bbb1-4eb0641c1f67"
      },
      "source": [
        "legend = ['True recall','True f1-score']\n",
        "plt.title('ROC result of different threshold')\n",
        "plt.plot(penalize,T_recall_list)\n",
        "plt.plot(penalize,T_F1_list3)\n",
        "plt.xlabel('threshold')\n",
        "plt.ylabel('percentage')\n",
        "plt.legend(legend)"
      ],
      "execution_count": 18,
      "outputs": [
        {
          "output_type": "execute_result",
          "data": {
            "text/plain": [
              "<matplotlib.legend.Legend at 0x7f8a42a7a9d0>"
            ]
          },
          "metadata": {
            "tags": []
          },
          "execution_count": 18
        },
        {
          "output_type": "display_data",
          "data": {
            "image/png": "[encoded data removed]",
            "text/plain": [
              "<Figure size 432x288 with 1 Axes>"
            ]
          },
          "metadata": {
            "tags": [],
            "needs_background": "light"
          }
        }
      ]
    },
    {
      "cell_type": "code",
      "metadata": {
        "id": "-bQg_NNZKlrO",
        "colab": {
          "base_uri": "https://localhost:8080/",
          "height": 282
        },
        "outputId": "1778ab6b-6f51-4547-ea83-d893414cf4e1"
      },
      "source": [
        "plt.subplot(1,3,1)\n",
        "plt.plot(T_F1_list1)\n",
        "plt.plot(F_F1_list1)\n",
        "print()\n",
        "plt.subplot(1,3,2)\n",
        "plt.plot(T_F1_list2)\n",
        "plt.plot(F_F1_list2)\n",
        "\n",
        "plt.subplot(1,3,3)\n",
        "plt.plot(T_F1_list3)\n",
        "plt.plot(F_F1_list3)\n"
      ],
      "execution_count": null,
      "outputs": [
        {
          "output_type": "execute_result",
          "data": {
            "text/plain": [
              "[<matplotlib.lines.Line2D at 0x7fe3c010f150>]"
            ]
          },
          "metadata": {
            "tags": []
          },
          "execution_count": 34
        },
        {
          "output_type": "display_data",
          "data": {
            "image/png": "[encoded data removed]",
            "text/plain": [
              "<Figure size 432x288 with 3 Axes>"
            ]
          },
          "metadata": {
            "tags": [],
            "needs_background": "light"
          }
        }
      ]
    },
    {
      "cell_type": "code",
      "metadata": {
        "colab": {
          "base_uri": "https://localhost:8080/"
        },
        "id": "62z5-0ej-EdN",
        "outputId": "73339fd1-6683-455a-85f7-046401b8198a"
      },
      "source": [
        "print(np.std(T_F1_list1))\n",
        "print(np.std(T_F1_list2))\n",
        "print(np.std(T_F1_list3))"
      ],
      "execution_count": null,
      "outputs": [
        {
          "output_type": "stream",
          "text": [
            "0.033656351555092834\n",
            "0.16098058889195305\n",
            "0.12487894137924135\n"
          ],
          "name": "stdout"
        }
      ]
    },
    {
      "cell_type": "markdown",
      "metadata": {
        "id": "6_uE6PCg-XDv"
      },
      "source": [
        "# According to the miximum f1-score for class \"Churn\" is 0.63. Weighted average accuracy equals 0.8, weighted average recall equals 0.77. weighted average f1-score equals 0.78."
      ]
    },
    {
      "cell_type": "markdown",
      "metadata": {
        "id": "RT3M2m8pARri"
      },
      "source": [
        "# next we also try to do some research about how data unbalancing influence the result of the logistic regression."
      ]
    },
    {
      "cell_type": "markdown",
      "metadata": {
        "id": "tNmoXL2dWPeO"
      },
      "source": [
        "\n",
        "\n",
        "> we first select same number of positive and negative data from previous trainning data and input to the first logistic regression model, and test on the same amount data as before. \n",
        "\n"
      ]
    },
    {
      "cell_type": "code",
      "metadata": {
        "id": "TkfUGeJlkJgU"
      },
      "source": [
        "index = np.argsort(y_train)\n",
        "balanced_data = np.zeros((1258*2,20))"
      ],
      "execution_count": null,
      "outputs": []
    },
    {
      "cell_type": "code",
      "metadata": {
        "colab": {
          "base_uri": "https://localhost:8080/"
        },
        "id": "bw5Oo24eWqQ8",
        "outputId": "29178401-d80e-42d6-ba67-d052a23c8e0b"
      },
      "source": [
        "balanced_data[:1258,:-1] = x_train[index[:1258],:]\n",
        "balanced_data[1258:,:-1] = x_train[index[-1258:],:]\n",
        "balanced_data[:1258,-1] = y_train[index[:1258]]\n",
        "balanced_data[1258:,-1] = y_train[index[-1258:]]\n",
        "model = LogisticRegression()\n",
        "model.fit(balanced_data[:,:-1],balanced_data[:,-1])\n",
        "\n",
        "predict_result = model.predict(x_test)\n",
        "print(accuracy_score(predict_result, y_test))\n",
        "conf_mat = confusion_matrix(y_test,predict_result)\n",
        "print(conf_mat)\n",
        "print(classification_report(y_test, predict_result))"
      ],
      "execution_count": null,
      "outputs": [
        {
          "output_type": "stream",
          "text": [
            "0.7441471571906354\n",
            "[[644 240]\n",
            " [ 66 246]]\n",
            "              precision    recall  f1-score   support\n",
            "\n",
            "           0       0.91      0.73      0.81       884\n",
            "           1       0.51      0.79      0.62       312\n",
            "\n",
            "    accuracy                           0.74      1196\n",
            "   macro avg       0.71      0.76      0.71      1196\n",
            "weighted avg       0.80      0.74      0.76      1196\n",
            "\n"
          ],
          "name": "stdout"
        }
      ]
    },
    {
      "cell_type": "markdown",
      "metadata": {
        "id": "5RF2uujnXKgc"
      },
      "source": [
        "# we can see from the result above that true positive rate of the model is much higher than the original data even the data is far less than the original one. It can well show that data unbalance could deeply affect the result of detecting the class who have less data."
      ]
    },
    {
      "cell_type": "markdown",
      "metadata": {
        "id": "satdOJkMWWp9"
      },
      "source": [
        "# Furthermore, we can learn that if some important categories are rare, we can improve the recognition rate of important categories by undersampling common categories and oversampling important categories. However, compared with previous methods, this method will also sacrifice the recognition accuracy of common categories."
      ]
    },
    {
      "cell_type": "code",
      "metadata": {
        "colab": {
          "base_uri": "https://localhost:8080/"
        },
        "id": "7U4-d3iga4Gb",
        "outputId": "5b4a09e0-c5b2-4c69-c824-40ce134cc07d"
      },
      "source": [
        "from sklearn.model_selection import StratifiedKFold\n",
        "kfold = StratifiedKFold(n_splits = 5)\n",
        "kfold_y_props = []\n",
        "for train,test in kfold.split(data[:,:-1],data[:,-1].astype('int')):\n",
        "    x_train = data[train,:-1]\n",
        "    y_train = data[train,-1].astype('int')\n",
        "    x_test = data[test,:-1]\n",
        "    y_test = data[test,-1].astype('int')\n",
        "    train_len = len(train)\n",
        "    test_len = len(test)\n",
        "    index = np.argsort(y_train)\n",
        "    model_list = []\n",
        "    balanced_data = np.zeros((2*sum(y_train),data.shape[1]))\n",
        "    for i in range(10):\n",
        "        random_index = np.argsort(np.random.rand(train_len-sum(y_train)))\n",
        "        balanced_data[:sum(y_train),:-1] = x_train[index[random_index[:sum(y_train)]],:]\n",
        "        balanced_data[sum(y_train):,:-1] = x_train[index[-sum(y_train):],:]\n",
        "        balanced_data[:sum(y_train),-1] = y_train[index[random_index[:sum(y_train)]]]\n",
        "        balanced_data[sum(y_train):,-1] = y_train[index[-sum(y_train):]]\n",
        "        model = LogisticRegression()\n",
        "        model.fit(balanced_data[:,:-1],balanced_data[:,-1])\n",
        "        model_list.append(model)\n",
        "    predict_result = np.zeros_like(y_test)\n",
        "    for model in model_list:\n",
        "        predict_result = predict_result + model.predict(x_test).astype('float64')\n",
        "    predict_result = predict_result/10\n",
        "    predict_result[predict_result>0.9] = 1\n",
        "    predict_result[predict_result<=0.9] = 0\n",
        "    print(accuracy_score(predict_result, y_test))\n",
        "    conf_mat = confusion_matrix(y_test,predict_result)\n",
        "    print(conf_mat)\n",
        "    print(classification_report(y_test, predict_result))"
      ],
      "execution_count": null,
      "outputs": [
        {
          "output_type": "stream",
          "text": [
            "0.7817725752508361\n",
            "[[687 191]\n",
            " [ 70 248]]\n",
            "              precision    recall  f1-score   support\n",
            "\n",
            "           0       0.91      0.78      0.84       878\n",
            "           1       0.56      0.78      0.66       318\n",
            "\n",
            "    accuracy                           0.78      1196\n",
            "   macro avg       0.74      0.78      0.75      1196\n",
            "weighted avg       0.82      0.78      0.79      1196\n",
            "\n",
            "0.7723849372384938\n",
            "[[680 198]\n",
            " [ 74 243]]\n",
            "              precision    recall  f1-score   support\n",
            "\n",
            "           0       0.90      0.77      0.83       878\n",
            "           1       0.55      0.77      0.64       317\n",
            "\n",
            "    accuracy                           0.77      1195\n",
            "   macro avg       0.73      0.77      0.74      1195\n",
            "weighted avg       0.81      0.77      0.78      1195\n",
            "\n",
            "0.7456066945606694\n",
            "[[664 214]\n",
            " [ 90 227]]\n",
            "              precision    recall  f1-score   support\n",
            "\n",
            "           0       0.88      0.76      0.81       878\n",
            "           1       0.51      0.72      0.60       317\n",
            "\n",
            "    accuracy                           0.75      1195\n",
            "   macro avg       0.70      0.74      0.71      1195\n",
            "weighted avg       0.78      0.75      0.76      1195\n",
            "\n",
            "0.7497907949790795\n",
            "[[668 210]\n",
            " [ 89 228]]\n",
            "              precision    recall  f1-score   support\n",
            "\n",
            "           0       0.88      0.76      0.82       878\n",
            "           1       0.52      0.72      0.60       317\n",
            "\n",
            "    accuracy                           0.75      1195\n",
            "   macro avg       0.70      0.74      0.71      1195\n",
            "weighted avg       0.79      0.75      0.76      1195\n",
            "\n",
            "0.7564853556485356\n",
            "[[683 194]\n",
            " [ 97 221]]\n",
            "              precision    recall  f1-score   support\n",
            "\n",
            "           0       0.88      0.78      0.82       877\n",
            "           1       0.53      0.69      0.60       318\n",
            "\n",
            "    accuracy                           0.76      1195\n",
            "   macro avg       0.70      0.74      0.71      1195\n",
            "weighted avg       0.78      0.76      0.77      1195\n",
            "\n"
          ],
          "name": "stdout"
        }
      ]
    },
    {
      "cell_type": "code",
      "metadata": {
        "colab": {
          "base_uri": "https://localhost:8080/",
          "height": 314
        },
        "id": "qPkRQAAnjPd9",
        "outputId": "f7924b63-9e14-49d2-a477-d6ea89db0894"
      },
      "source": [
        "X_resampled = pd.DataFrame(balanced_data[:,:-1]) \n",
        "# convert y_resampled to df\n",
        "df_y_resampled = pd.DataFrame(balanced_data[:,-1])\n",
        "\n",
        "# showing a plot of the Balanced dataset \n",
        "majority_class = df_y_resampled.loc[df_y_resampled[0] == 0].count()[0]\n",
        "\n",
        "# Showing the count for Non Hole Deviation \n",
        "minority_class = df_y_resampled.loc[df_y_resampled[0] == 1].count()[0]\n",
        "\n",
        "# Print \n",
        "print('Clustomer who stayed: {}'.format(majority_class))\n",
        "print('Customers who left : {}'.format(minority_class))\n",
        "\n",
        "sns.countplot(x=0, data=df_y_resampled)\n",
        "plt.show()"
      ],
      "execution_count": null,
      "outputs": [
        {
          "output_type": "stream",
          "text": [
            "Clustomer who stayed: 1269\n",
            "Customers who left : 1269\n"
          ],
          "name": "stdout"
        },
        {
          "output_type": "display_data",
          "data": {
            "image/png": "[encoded data removed]",
            "text/plain": [
              "<Figure size 432x288 with 1 Axes>"
            ]
          },
          "metadata": {
            "tags": [],
            "needs_background": "light"
          }
        }
      ]
    },
    {
      "cell_type": "markdown",
      "metadata": {
        "id": "Y0_m1g6CCg4Y"
      },
      "source": [
        "# Oversample the data using SMOTE"
      ]
    },
    {
      "cell_type": "code",
      "metadata": {
        "colab": {
          "base_uri": "https://localhost:8080/"
        },
        "id": "xQVqgXTKCgV6",
        "outputId": "44a23d0a-eb21-4329-9247-68f4cc09dd83"
      },
      "source": [
        "from imblearn.over_sampling import SMOTE\n",
        "\n",
        "# Using SMOTE to Balance the imbalanced data \n"
      ],
      "execution_count": null,
      "outputs": [
        {
          "output_type": "stream",
          "text": [
            "/usr/local/lib/python3.7/dist-packages/sklearn/externals/six.py:31: FutureWarning: The module is deprecated in version 0.21 and will be removed in version 0.23 since we've dropped support for Python 2.7. Please rely on the official version of six (https://pypi.org/project/six/).\n",
            "  \"(https://pypi.org/project/six/).\", FutureWarning)\n",
            "/usr/local/lib/python3.7/dist-packages/sklearn/utils/deprecation.py:144: FutureWarning: The sklearn.neighbors.base module is  deprecated in version 0.22 and will be removed in version 0.24. The corresponding classes / functions should instead be imported from sklearn.neighbors. Anything that cannot be imported from sklearn.neighbors is now part of the private API.\n",
            "  warnings.warn(message, FutureWarning)\n",
            "/usr/local/lib/python3.7/dist-packages/imblearn/utils/_validation.py:93: UserWarning: 'y' should be of types ('binary', 'multiclass', 'multilabel-indicator') only. Got unknown instead.\n",
            "  TARGET_KIND, type_of_target(y)))\n",
            "/usr/local/lib/python3.7/dist-packages/sklearn/utils/deprecation.py:87: FutureWarning: Function safe_indexing is deprecated; safe_indexing is deprecated in version 0.22 and will be removed in version 0.24.\n",
            "  warnings.warn(msg, category=FutureWarning)\n"
          ],
          "name": "stderr"
        }
      ]
    },
    {
      "cell_type": "code",
      "metadata": {
        "colab": {
          "base_uri": "https://localhost:8080/"
        },
        "id": "FX8jMprVmA3N",
        "outputId": "d657de2a-e634-4f37-f303-96c70fee2ceb"
      },
      "source": [
        "kfold = StratifiedKFold(n_splits = 5)\n",
        "kfold_y_props = []\n",
        "\n",
        "for train,test in kfold.split(data[:,:-1],data[:,-1].astype('int')):\n",
        "    x_train = data[train,:-1]\n",
        "    y_train = data[train,-1].astype('int')\n",
        "    x_test = data[test,:-1]\n",
        "    y_test = data[test,-1].astype('int')\n",
        "    X_resampled, y_resampled = SMOTE().fit_resample(x_train,y_train)\n",
        "    model = LogisticRegression()\n",
        "    model.fit(X_resampled,y_resampled)\n",
        "\n",
        "    predict_result = model.predict(x_test).astype('float64')\n",
        "    print(accuracy_score(predict_result, y_test))\n",
        "    conf_mat = confusion_matrix(y_test,predict_result)\n",
        "    print(conf_mat)\n",
        "    print(classification_report(y_test, predict_result))"
      ],
      "execution_count": null,
      "outputs": [
        {
          "output_type": "stream",
          "text": [
            "/usr/local/lib/python3.7/dist-packages/sklearn/utils/deprecation.py:87: FutureWarning: Function safe_indexing is deprecated; safe_indexing is deprecated in version 0.22 and will be removed in version 0.24.\n",
            "  warnings.warn(msg, category=FutureWarning)\n",
            "/usr/local/lib/python3.7/dist-packages/sklearn/utils/deprecation.py:87: FutureWarning: Function safe_indexing is deprecated; safe_indexing is deprecated in version 0.22 and will be removed in version 0.24.\n",
            "  warnings.warn(msg, category=FutureWarning)\n"
          ],
          "name": "stderr"
        },
        {
          "output_type": "stream",
          "text": [
            "0.7650501672240803\n",
            "[[664 214]\n",
            " [ 67 251]]\n",
            "              precision    recall  f1-score   support\n",
            "\n",
            "           0       0.91      0.76      0.83       878\n",
            "           1       0.54      0.79      0.64       318\n",
            "\n",
            "    accuracy                           0.77      1196\n",
            "   macro avg       0.72      0.77      0.73      1196\n",
            "weighted avg       0.81      0.77      0.78      1196\n",
            "\n",
            "0.7539748953974895\n",
            "[[650 228]\n",
            " [ 66 251]]\n",
            "              precision    recall  f1-score   support\n",
            "\n",
            "           0       0.91      0.74      0.82       878\n",
            "           1       0.52      0.79      0.63       317\n",
            "\n",
            "    accuracy                           0.75      1195\n",
            "   macro avg       0.72      0.77      0.72      1195\n",
            "weighted avg       0.81      0.75      0.77      1195\n",
            "\n",
            "0.7389121338912134\n",
            "[[646 232]\n",
            " [ 80 237]]\n"
          ],
          "name": "stdout"
        },
        {
          "output_type": "stream",
          "text": [
            "/usr/local/lib/python3.7/dist-packages/sklearn/utils/deprecation.py:87: FutureWarning: Function safe_indexing is deprecated; safe_indexing is deprecated in version 0.22 and will be removed in version 0.24.\n",
            "  warnings.warn(msg, category=FutureWarning)\n",
            "/usr/local/lib/python3.7/dist-packages/sklearn/utils/deprecation.py:87: FutureWarning: Function safe_indexing is deprecated; safe_indexing is deprecated in version 0.22 and will be removed in version 0.24.\n",
            "  warnings.warn(msg, category=FutureWarning)\n"
          ],
          "name": "stderr"
        },
        {
          "output_type": "stream",
          "text": [
            "              precision    recall  f1-score   support\n",
            "\n",
            "           0       0.89      0.74      0.81       878\n",
            "           1       0.51      0.75      0.60       317\n",
            "\n",
            "    accuracy                           0.74      1195\n",
            "   macro avg       0.70      0.74      0.70      1195\n",
            "weighted avg       0.79      0.74      0.75      1195\n",
            "\n",
            "0.7456066945606694\n",
            "[[645 233]\n",
            " [ 71 246]]\n",
            "              precision    recall  f1-score   support\n",
            "\n",
            "           0       0.90      0.73      0.81       878\n",
            "           1       0.51      0.78      0.62       317\n",
            "\n",
            "    accuracy                           0.75      1195\n",
            "   macro avg       0.71      0.76      0.71      1195\n",
            "weighted avg       0.80      0.75      0.76      1195\n",
            "\n",
            "0.7481171548117155\n",
            "[[659 218]\n",
            " [ 83 235]]\n",
            "              precision    recall  f1-score   support\n",
            "\n",
            "           0       0.89      0.75      0.81       877\n",
            "           1       0.52      0.74      0.61       318\n",
            "\n",
            "    accuracy                           0.75      1195\n",
            "   macro avg       0.70      0.75      0.71      1195\n",
            "weighted avg       0.79      0.75      0.76      1195\n",
            "\n"
          ],
          "name": "stdout"
        },
        {
          "output_type": "stream",
          "text": [
            "/usr/local/lib/python3.7/dist-packages/sklearn/utils/deprecation.py:87: FutureWarning: Function safe_indexing is deprecated; safe_indexing is deprecated in version 0.22 and will be removed in version 0.24.\n",
            "  warnings.warn(msg, category=FutureWarning)\n"
          ],
          "name": "stderr"
        }
      ]
    },
    {
      "cell_type": "code",
      "metadata": {
        "colab": {
          "base_uri": "https://localhost:8080/"
        },
        "id": "xj48at7-m_Tx",
        "outputId": "7c0297f3-e364-4cef-c2c8-7a390fd38c14"
      },
      "source": [
        "balanced_data.shape"
      ],
      "execution_count": null,
      "outputs": [
        {
          "output_type": "execute_result",
          "data": {
            "text/plain": [
              "(7024, 20)"
            ]
          },
          "metadata": {
            "tags": []
          },
          "execution_count": 28
        }
      ]
    },
    {
      "cell_type": "code",
      "metadata": {
        "colab": {
          "base_uri": "https://localhost:8080/",
          "height": 314
        },
        "id": "qfCu4PBFCuGB",
        "outputId": "7c1e0d7f-8a4c-4ca2-f631-01d0328b2f83"
      },
      "source": [
        "X_resampled = pd.DataFrame(X_resampled) \n",
        "# convert y_resampled to df\n",
        "df_y_resampled = pd.DataFrame(y_resampled)\n",
        "\n",
        "# showing a plot of the Balanced dataset \n",
        "majority_class = df_y_resampled.loc[df_y_resampled[0] == 0].count()[0]\n",
        "\n",
        "# Showing the count for Non Hole Deviation \n",
        "minority_class = df_y_resampled.loc[df_y_resampled[0] == 1].count()[0]\n",
        "\n",
        "# Print \n",
        "print('Clustomer who stayed: {}'.format(majority_class))\n",
        "print('Customers who left : {}'.format(minority_class))\n",
        "\n",
        "sns.countplot(x=0, data=df_y_resampled)\n",
        "plt.show()"
      ],
      "execution_count": null,
      "outputs": [
        {
          "output_type": "stream",
          "text": [
            "Clustomer who stayed: 3505\n",
            "Customers who left : 3505\n"
          ],
          "name": "stdout"
        },
        {
          "output_type": "display_data",
          "data": {
            "image/png": "[encoded data removed]",
            "text/plain": [
              "<Figure size 432x288 with 1 Axes>"
            ]
          },
          "metadata": {
            "tags": [],
            "needs_background": "light"
          }
        }
      ]
    },
    {
      "cell_type": "code",
      "metadata": {
        "colab": {
          "base_uri": "https://localhost:8080/"
        },
        "id": "LtMWLeUQC53M",
        "outputId": "bc65368d-53ad-42b5-9b6f-5426610b9cf6"
      },
      "source": [
        "model = LogisticRegression()\n",
        "model.fit(X_resampled,y_resampled.astype('int'))\n",
        "\n",
        "predict_result = model.predict(x_test)\n",
        "print(accuracy_score(predict_result, y_test))\n",
        "conf_mat = confusion_matrix(y_test,predict_result)\n",
        "print(conf_mat)\n",
        "print(classification_report(y_test, predict_result))"
      ],
      "execution_count": null,
      "outputs": [
        {
          "output_type": "stream",
          "text": [
            "0.7466555183946488\n",
            "[[647 237]\n",
            " [ 66 246]]\n",
            "              precision    recall  f1-score   support\n",
            "\n",
            "           0       0.91      0.73      0.81       884\n",
            "           1       0.51      0.79      0.62       312\n",
            "\n",
            "    accuracy                           0.75      1196\n",
            "   macro avg       0.71      0.76      0.71      1196\n",
            "weighted avg       0.80      0.75      0.76      1196\n",
            "\n"
          ],
          "name": "stdout"
        }
      ]
    },
    {
      "cell_type": "code",
      "metadata": {
        "id": "AHFWJT4eDk2h"
      },
      "source": [
        ""
      ],
      "execution_count": null,
      "outputs": []
    }
  ]
}